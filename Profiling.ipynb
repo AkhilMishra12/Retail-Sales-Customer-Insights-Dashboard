{
 "cells": [
  {
   "cell_type": "code",
   "execution_count": 1,
   "id": "105d6a25-23e2-4482-80c1-704da477bd83",
   "metadata": {},
   "outputs": [
    {
     "data": {
      "text/plain": [
       "(  Order_ID  Order_Date CustomerName           State       City\n",
       " 0  B-25601  01-04-2018       Bharat         Gujarat  Ahmedabad\n",
       " 1  B-25602  01-04-2018        Pearl     Maharashtra       Pune\n",
       " 2  B-25603  03-04-2018        Jahan  Madhya Pradesh     Bhopal\n",
       " 3  B-25604  03-04-2018       Divsha       Rajasthan     Jaipur\n",
       " 4  B-25605  05-04-2018      Kasheen     West Bengal    Kolkata,\n",
       "   Order_ID  Amount  Profit  Quantity     Category      Sub-Category\n",
       " 0  B-25601  1275.0 -1148.0         7    Furniture         Bookcases\n",
       " 1  B-25601    66.0   -12.0         5     Clothing             Stole\n",
       " 2  B-25601     8.0    -2.0         3     Clothing       Hankerchief\n",
       " 3  B-25601    80.0   -56.0         4  Electronics  Electronic Games\n",
       " 4  B-25602   168.0  -111.0         2  Electronics            Phones,\n",
       "   Month_of_Order_Date   Category   Target\n",
       " 0              Apr-18  Furniture  10400.0\n",
       " 1              May-18  Furniture  10500.0\n",
       " 2              Jun-18  Furniture  10600.0\n",
       " 3              Jul-18  Furniture  10800.0\n",
       " 4              Aug-18  Furniture  10900.0)"
      ]
     },
     "execution_count": 1,
     "metadata": {},
     "output_type": "execute_result"
    }
   ],
   "source": [
    "# Step 1: Data understanding and profiling in Jupyter\n",
    "\n",
    "import pandas as pd\n",
    "import numpy as np\n",
    "\n",
    "# 1) Load CSVs (use exact filenames as attached)\n",
    "orders_path = \"List of Orders.csv\"\n",
    "details_path = \"Order Details.csv\"\n",
    "targets_path = \"Sales target.csv\"\n",
    "\n",
    "orders = pd.read_csv(orders_path)\n",
    "details = pd.read_csv(details_path)\n",
    "targets = pd.read_csv(targets_path)\n",
    "\n",
    "# Standardize column names (strip spaces, underscores)\n",
    "orders.columns = [c.strip().replace(\" \", \"_\") for c in orders.columns]\n",
    "details.columns = [c.strip().replace(\" \", \"_\") for c in details.columns]\n",
    "targets.columns = [c.strip().replace(\" \", \"_\") for c in targets.columns]\n",
    "\n",
    "orders.head(), details.head(), targets.head()\n"
   ]
  },
  {
   "cell_type": "code",
   "execution_count": 2,
   "id": "b2ee2938-59a4-40ab-8acc-8f2af34e6344",
   "metadata": {},
   "outputs": [
    {
     "name": "stdout",
     "output_type": "stream",
     "text": [
      "Orders info:\n",
      "<class 'pandas.core.frame.DataFrame'>\n",
      "RangeIndex: 560 entries, 0 to 559\n",
      "Data columns (total 5 columns):\n",
      " #   Column        Non-Null Count  Dtype \n",
      "---  ------        --------------  ----- \n",
      " 0   Order_ID      500 non-null    object\n",
      " 1   Order_Date    500 non-null    object\n",
      " 2   CustomerName  500 non-null    object\n",
      " 3   State         500 non-null    object\n",
      " 4   City          500 non-null    object\n",
      "dtypes: object(5)\n",
      "memory usage: 22.0+ KB\n",
      "None\n",
      "\n",
      "Order Details info:\n",
      "<class 'pandas.core.frame.DataFrame'>\n",
      "RangeIndex: 1500 entries, 0 to 1499\n",
      "Data columns (total 6 columns):\n",
      " #   Column        Non-Null Count  Dtype  \n",
      "---  ------        --------------  -----  \n",
      " 0   Order_ID      1500 non-null   object \n",
      " 1   Amount        1500 non-null   float64\n",
      " 2   Profit        1500 non-null   float64\n",
      " 3   Quantity      1500 non-null   int64  \n",
      " 4   Category      1500 non-null   object \n",
      " 5   Sub-Category  1500 non-null   object \n",
      "dtypes: float64(2), int64(1), object(3)\n",
      "memory usage: 70.4+ KB\n",
      "None\n",
      "\n",
      "Sales Targets info:\n",
      "<class 'pandas.core.frame.DataFrame'>\n",
      "RangeIndex: 36 entries, 0 to 35\n",
      "Data columns (total 3 columns):\n",
      " #   Column               Non-Null Count  Dtype  \n",
      "---  ------               --------------  -----  \n",
      " 0   Month_of_Order_Date  36 non-null     object \n",
      " 1   Category             36 non-null     object \n",
      " 2   Target               36 non-null     float64\n",
      "dtypes: float64(1), object(2)\n",
      "memory usage: 996.0+ bytes\n",
      "None\n"
     ]
    }
   ],
   "source": [
    "# 2) Basic info and schema types\n",
    "print(\"Orders info:\")\n",
    "print(orders.info())\n",
    "print(\"\\nOrder Details info:\")\n",
    "print(details.info())\n",
    "print(\"\\nSales Targets info:\")\n",
    "print(targets.info())\n"
   ]
  },
  {
   "cell_type": "code",
   "execution_count": 3,
   "id": "d152cc4d-140e-44b2-bceb-5c0a947f223a",
   "metadata": {},
   "outputs": [],
   "source": [
    "# 3) Parse dates and numeric fields\n",
    "# Orders: Order_Date looks like dd-mm-YYYY or similar; coerce to datetime\n",
    "orders[\"Order_Date\"] = pd.to_datetime(orders[\"Order_Date\"], dayfirst=True, errors=\"coerce\")\n",
    "\n",
    "# Details: Amount, Profit, Quantity numeric\n",
    "for col in [\"Amount\", \"Profit\", \"Quantity\"]:\n",
    "    # Some CSVs may store numbers as strings; coerce\n",
    "    details[col] = pd.to_numeric(details[col], errors=\"coerce\")\n",
    "\n",
    "# Targets: Month_of_Order_Date like \"Apr-18\"; parse to period-month\n",
    "# Create a Date column as end of month for easier joins\n",
    "targets.rename(columns={\"Month_of_Order_Date\": \"Month\"}, inplace=True)\n",
    "if \"Month\" not in targets.columns:\n",
    "    # fallback if header appears slightly different in the file\n",
    "    # e.g., \"Month of Order Date\"\n",
    "    for c in targets.columns:\n",
    "        if c.lower().startswith(\"month\"):\n",
    "            targets.rename(columns={c: \"Month\"}, inplace=True)\n",
    "            break\n",
    "\n",
    "targets[\"Target\"] = pd.to_numeric(targets[\"Target\"], errors=\"coerce\")\n",
    "targets[\"Month_Period\"] = pd.to_datetime(targets[\"Month\"], format=\"%b-%y\", errors=\"coerce\")\n",
    "targets[\"Month_End\"] = targets[\"Month_Period\"] + pd.offsets.MonthEnd(0)\n",
    "\n",
    "orders[\"Month_End\"] = orders[\"Order_Date\"] + pd.offsets.MonthEnd(0)\n"
   ]
  },
  {
   "cell_type": "code",
   "execution_count": 4,
   "id": "9df7e803-acee-4b9a-a954-a401dcd9eb99",
   "metadata": {},
   "outputs": [
    {
     "name": "stdout",
     "output_type": "stream",
     "text": [
      "\n",
      "Entities:\n",
      "- Orders (Order_ID, Order_Date, CustomerName, State, City)\n",
      "- Order_Details (Order_ID, Amount, Profit, Quantity, Category, Sub-Category)\n",
      "- Sales_Targets (Month, Category, Target)\n",
      "\n",
      "Relationships:\n",
      "- Orders 1..* ↔ Order_Details many-to-1 via Order_ID\n",
      "- Sales_Targets links by Month_End (from Orders) and Category\n",
      "\n"
     ]
    }
   ],
   "source": [
    "# 4) Quick ERD sketch (as text)\n",
    "erd = \"\"\"\n",
    "Entities:\n",
    "- Orders (Order_ID, Order_Date, CustomerName, State, City)\n",
    "- Order_Details (Order_ID, Amount, Profit, Quantity, Category, Sub-Category)\n",
    "- Sales_Targets (Month, Category, Target)\n",
    "\n",
    "Relationships:\n",
    "- Orders 1..* ↔ Order_Details many-to-1 via Order_ID\n",
    "- Sales_Targets links by Month_End (from Orders) and Category\n",
    "\"\"\"\n",
    "print(erd)\n"
   ]
  },
  {
   "cell_type": "code",
   "execution_count": 5,
   "id": "d89c1b42-f9d5-4bc2-aef8-f41fdbce74e6",
   "metadata": {},
   "outputs": [
    {
     "data": {
      "text/plain": [
       "{'orders_rows': 560,\n",
       " 'details_rows': 1500,\n",
       " 'targets_rows': 36,\n",
       " 'orders_orderid_nulls': 60,\n",
       " 'details_orderid_nulls': 0,\n",
       " 'orders_duplicates_Order_ID': 59,\n",
       " 'details_duplicates_full_row': 0}"
      ]
     },
     "execution_count": 5,
     "metadata": {},
     "output_type": "execute_result"
    }
   ],
   "source": [
    "# 5) Row counts and duplicates\n",
    "summary = {}\n",
    "\n",
    "summary[\"orders_rows\"] = len(orders)\n",
    "summary[\"details_rows\"] = len(details)\n",
    "summary[\"targets_rows\"] = len(targets)\n",
    "\n",
    "summary[\"orders_orderid_nulls\"] = orders[\"Order_ID\"].isna().sum()\n",
    "summary[\"details_orderid_nulls\"] = details[\"Order_ID\"].isna().sum()\n",
    "\n",
    "summary[\"orders_duplicates_Order_ID\"] = orders[\"Order_ID\"].duplicated().sum()  # should be 0 if one row per order\n",
    "summary[\"details_duplicates_full_row\"] = details.duplicated().sum()\n",
    "\n",
    "summary\n"
   ]
  },
  {
   "cell_type": "code",
   "execution_count": 6,
   "id": "3f109b19-808e-4073-830a-ebd30ee92b6c",
   "metadata": {},
   "outputs": [
    {
     "data": {
      "text/plain": [
       "({'orders_min_date': Timestamp('2018-04-01 00:00:00'),\n",
       "  'orders_max_date': Timestamp('2019-03-31 00:00:00'),\n",
       "  'orders_date_nulls': 60},\n",
       " {'Amount': 0, 'Profit': 0, 'Quantity': 0})"
      ]
     },
     "execution_count": 6,
     "metadata": {},
     "output_type": "execute_result"
    }
   ],
   "source": [
    "# 6) Date ranges and missing checks\n",
    "date_profile = {\n",
    "    \"orders_min_date\": orders[\"Order_Date\"].min(),\n",
    "    \"orders_max_date\": orders[\"Order_Date\"].max(),\n",
    "    \"orders_date_nulls\": orders[\"Order_Date\"].isna().sum(),\n",
    "}\n",
    "\n",
    "num_nulls_details = details[[\"Amount\",\"Profit\",\"Quantity\"]].isna().sum().to_dict()\n",
    "\n",
    "date_profile, num_nulls_details\n"
   ]
  },
  {
   "cell_type": "code",
   "execution_count": 7,
   "id": "2011437b-26d9-4cde-b585-5b63ebd1ae8f",
   "metadata": {},
   "outputs": [
    {
     "data": {
      "text/plain": [
       "{'details_categories': {'Clothing': 949, 'Electronics': 308, 'Furniture': 243},\n",
       " 'details_subcategories_top10': {'Saree': 210,\n",
       "  'Hankerchief': 198,\n",
       "  'Stole': 192,\n",
       "  'Phones': 83,\n",
       "  'Bookcases': 79,\n",
       "  'Electronic Games': 79,\n",
       "  'T-shirt': 77,\n",
       "  'Printers': 74,\n",
       "  'Chairs': 74,\n",
       "  'Furnishings': 73},\n",
       " 'orders_states_top10': {'Madhya Pradesh': 101,\n",
       "  'Maharashtra': 90,\n",
       "  'Rajasthan': 32,\n",
       "  'Gujarat': 27,\n",
       "  'Punjab': 25,\n",
       "  'Uttar Pradesh': 22,\n",
       "  'Delhi': 22,\n",
       "  'West Bengal': 22,\n",
       "  'Karnataka': 21,\n",
       "  'Kerala ': 16},\n",
       " 'orders_cities_top10': {'Indore': 76,\n",
       "  'Mumbai': 68,\n",
       "  'Chandigarh': 30,\n",
       "  'Delhi': 25,\n",
       "  'Bhopal': 22,\n",
       "  'Kolkata': 22,\n",
       "  'Pune': 22,\n",
       "  'Bangalore': 21,\n",
       "  'Jaipur': 19,\n",
       "  'Ahmedabad': 17}}"
      ]
     },
     "execution_count": 7,
     "metadata": {},
     "output_type": "execute_result"
    }
   ],
   "source": [
    "# 7) Key distributions and categorical summaries\n",
    "cat_summary = {\n",
    "    \"details_categories\": details[\"Category\"].value_counts(dropna=False).to_dict(),\n",
    "    \"details_subcategories_top10\": details[\"Sub-Category\"].value_counts().head(10).to_dict(),\n",
    "    \"orders_states_top10\": orders[\"State\"].value_counts().head(10).to_dict(),\n",
    "    \"orders_cities_top10\": orders[\"City\"].value_counts().head(10).to_dict(),\n",
    "}\n",
    "cat_summary\n"
   ]
  },
  {
   "cell_type": "code",
   "execution_count": 8,
   "id": "1ba192aa-fd7d-4002-bc34-e1c6b994524b",
   "metadata": {},
   "outputs": [
    {
     "data": {
      "text/plain": [
       "(1500, 0, 100.0)"
      ]
     },
     "execution_count": 8,
     "metadata": {},
     "output_type": "execute_result"
    }
   ],
   "source": [
    "# 8) Join sanity checks: how many details match an order?\n",
    "matched = details[\"Order_ID\"].isin(orders[\"Order_ID\"]).sum()\n",
    "unmatched = len(details) - matched\n",
    "\n",
    "matched, unmatched, round(100*matched/len(details),2)\n"
   ]
  },
  {
   "cell_type": "code",
   "execution_count": 9,
   "id": "4b8f16fb-c4d9-4199-a651-c631071c216c",
   "metadata": {},
   "outputs": [
    {
     "data": {
      "text/plain": [
       "{'total_revenue': 431502.0,\n",
       " 'total_profit': 23955.0,\n",
       " 'total_orders': 500,\n",
       " 'orders_with_lines': 500,\n",
       " 'orders_no_lines': 60,\n",
       " 'min_order_date': '2018-04-01',\n",
       " 'max_order_date': '2019-03-31'}"
      ]
     },
     "execution_count": 9,
     "metadata": {},
     "output_type": "execute_result"
    }
   ],
   "source": [
    "# 9) Basic KPI checks\n",
    "# Order-level aggregates from details\n",
    "agg_details = details.groupby(\"Order_ID\", as_index=False).agg(\n",
    "    lines=(\"Order_ID\",\"size\"),\n",
    "    revenue=(\"Amount\",\"sum\"),\n",
    "    profit=(\"Profit\",\"sum\"),\n",
    "    items=(\"Quantity\",\"sum\")\n",
    ")\n",
    "\n",
    "# Join to orders to attach date and region\n",
    "orders_agg = orders[[\"Order_ID\",\"Order_Date\",\"Month_End\",\"State\",\"City\"]].merge(\n",
    "    agg_details, on=\"Order_ID\", how=\"left\"\n",
    ")\n",
    "\n",
    "# Simple sanity: totals and timeframe coverage\n",
    "kpis = {\n",
    "    \"total_revenue\": float(agg_details[\"revenue\"].sum()),\n",
    "    \"total_profit\": float(agg_details[\"profit\"].sum()),\n",
    "    \"total_orders\": int(orders[\"Order_ID\"].nunique()),\n",
    "    \"orders_with_lines\": int(orders_agg[\"lines\"].notna().sum()),\n",
    "    \"orders_no_lines\": int(orders_agg[\"lines\"].isna().sum()),\n",
    "    \"min_order_date\": str(orders[\"Order_Date\"].min().date()) if pd.notna(orders[\"Order_Date\"].min()) else None,\n",
    "    \"max_order_date\": str(orders[\"Order_Date\"].max().date()) if pd.notna(orders[\"Order_Date\"].max()) else None,\n",
    "}\n",
    "kpis\n"
   ]
  },
  {
   "cell_type": "code",
   "execution_count": 10,
   "id": "8e2cadf1-69b2-4cd2-92b7-d06db7e73d77",
   "metadata": {},
   "outputs": [
    {
     "data": {
      "text/html": [
       "<div>\n",
       "<style scoped>\n",
       "    .dataframe tbody tr th:only-of-type {\n",
       "        vertical-align: middle;\n",
       "    }\n",
       "\n",
       "    .dataframe tbody tr th {\n",
       "        vertical-align: top;\n",
       "    }\n",
       "\n",
       "    .dataframe thead th {\n",
       "        text-align: right;\n",
       "    }\n",
       "</style>\n",
       "<table border=\"1\" class=\"dataframe\">\n",
       "  <thead>\n",
       "    <tr style=\"text-align: right;\">\n",
       "      <th></th>\n",
       "      <th>Month_End</th>\n",
       "      <th>Category</th>\n",
       "      <th>Revenue</th>\n",
       "      <th>Target</th>\n",
       "    </tr>\n",
       "  </thead>\n",
       "  <tbody>\n",
       "    <tr>\n",
       "      <th>0</th>\n",
       "      <td>2018-04-30</td>\n",
       "      <td>Clothing</td>\n",
       "      <td>13478.0</td>\n",
       "      <td>12000.0</td>\n",
       "    </tr>\n",
       "    <tr>\n",
       "      <th>1</th>\n",
       "      <td>2018-04-30</td>\n",
       "      <td>Electronics</td>\n",
       "      <td>11127.0</td>\n",
       "      <td>9000.0</td>\n",
       "    </tr>\n",
       "    <tr>\n",
       "      <th>2</th>\n",
       "      <td>2018-04-30</td>\n",
       "      <td>Furniture</td>\n",
       "      <td>8121.0</td>\n",
       "      <td>10400.0</td>\n",
       "    </tr>\n",
       "    <tr>\n",
       "      <th>3</th>\n",
       "      <td>2018-05-31</td>\n",
       "      <td>Clothing</td>\n",
       "      <td>9518.0</td>\n",
       "      <td>12000.0</td>\n",
       "    </tr>\n",
       "    <tr>\n",
       "      <th>4</th>\n",
       "      <td>2018-05-31</td>\n",
       "      <td>Electronics</td>\n",
       "      <td>12807.0</td>\n",
       "      <td>9000.0</td>\n",
       "    </tr>\n",
       "  </tbody>\n",
       "</table>\n",
       "</div>"
      ],
      "text/plain": [
       "   Month_End     Category  Revenue   Target\n",
       "0 2018-04-30     Clothing  13478.0  12000.0\n",
       "1 2018-04-30  Electronics  11127.0   9000.0\n",
       "2 2018-04-30    Furniture   8121.0  10400.0\n",
       "3 2018-05-31     Clothing   9518.0  12000.0\n",
       "4 2018-05-31  Electronics  12807.0   9000.0"
      ]
     },
     "execution_count": 10,
     "metadata": {},
     "output_type": "execute_result"
    }
   ],
   "source": [
    "# 10) Monthly revenue vs target readiness (aggregates only, no chart)\n",
    "monthly_rev = orders_agg.groupby([\"Month_End\"], as_index=False)[\"revenue\"].sum()\n",
    "\n",
    "# Align to category-level by month for future target comparisons\n",
    "details_with_month = details.merge(orders[[\"Order_ID\",\"Month_End\"]], on=\"Order_ID\", how=\"left\")\n",
    "monthly_cat_rev = details_with_month.groupby([\"Month_End\",\"Category\"], as_index=False)[\"Amount\"].sum().rename(columns={\"Amount\":\"Revenue\"})\n",
    "\n",
    "# Prepare targets keyed by Month_End and Category\n",
    "targets_k = targets.rename(columns={\"Category\":\"Category\", \"Target\":\"Target\"})[[\"Month_End\",\"Category\",\"Target\"]]\n",
    "\n",
    "monthly_cat_ready = monthly_cat_rev.merge(targets_k, on=[\"Month_End\",\"Category\"], how=\"left\")\n",
    "monthly_cat_ready.head()\n"
   ]
  },
  {
   "cell_type": "code",
   "execution_count": 11,
   "id": "95a5c138-9394-4bee-bce9-e482c612985b",
   "metadata": {},
   "outputs": [
    {
     "name": "stdout",
     "output_type": "stream",
     "text": [
      "Saved profiling and aggregates CSVs.\n"
     ]
    }
   ],
   "source": [
    "# 11) Save lightweight profiling outputs (CSV) for documentation\n",
    "orders_profile = orders.describe(include=\"all\").transpose()\n",
    "details_profile = details.describe(include=\"all\").transpose()\n",
    "targets_profile = targets.describe(include=\"all\").transpose()\n",
    "\n",
    "orders_profile.to_csv(\"docs_orders_profile.csv\", index=True)\n",
    "details_profile.to_csv(\"docs_details_profile.csv\", index=True)\n",
    "targets_profile.to_csv(\"docs_targets_profile.csv\", index=True)\n",
    "\n",
    "monthly_rev.to_csv(\"docs_monthly_revenue.csv\", index=False)\n",
    "monthly_cat_ready.to_csv(\"docs_monthly_category_revenue_target.csv\", index=False)\n",
    "\n",
    "print(\"Saved profiling and aggregates CSVs.\")\n"
   ]
  },
  {
   "cell_type": "code",
   "execution_count": null,
   "id": "6e54f8ad-7a0b-4eea-bc7c-41405954b34d",
   "metadata": {},
   "outputs": [],
   "source": []
  }
 ],
 "metadata": {
  "kernelspec": {
   "display_name": "Python 3 (ipykernel)",
   "language": "python",
   "name": "python3"
  },
  "language_info": {
   "codemirror_mode": {
    "name": "ipython",
    "version": 3
   },
   "file_extension": ".py",
   "mimetype": "text/x-python",
   "name": "python",
   "nbconvert_exporter": "python",
   "pygments_lexer": "ipython3",
   "version": "3.12.7"
  }
 },
 "nbformat": 4,
 "nbformat_minor": 5
}
